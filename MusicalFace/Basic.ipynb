{
 "metadata": {
  "language_info": {
   "codemirror_mode": {
    "name": "ipython",
    "version": 3
   },
   "file_extension": ".py",
   "mimetype": "text/x-python",
   "name": "python",
   "nbconvert_exporter": "python",
   "pygments_lexer": "ipython3",
   "version": "3.6.5-final"
  },
  "orig_nbformat": 2,
  "kernelspec": {
   "name": "Python 3.6.5 64-bit ('ML': conda)",
   "display_name": "Python 3.6.5 64-bit ('ML': conda)",
   "metadata": {
    "interpreter": {
     "hash": "02e8b29f27383623620a81b44ff2109e24f067f3b1a958c640937ff95ee3ec72"
    }
   }
  }
 },
 "nbformat": 4,
 "nbformat_minor": 2,
 "cells": [
  {
   "cell_type": "code",
   "execution_count": null,
   "metadata": {},
   "outputs": [],
   "source": [
    "import cv2\n",
    "import numpy as np\n",
    "import time\n",
    "import face_recognition as fr\n",
    "import os\n",
    "import csv "
   ]
  },
  {
   "cell_type": "code",
   "execution_count": null,
   "metadata": {},
   "outputs": [],
   "source": [
    "encodeKnown = []\n",
    "names = ['Fenris', 'Khushi', 'Maa', 'Papa']"
   ]
  },
  {
   "cell_type": "code",
   "execution_count": null,
   "metadata": {},
   "outputs": [],
   "source": [
    "imgFenris = fr.load_image_file('D:\\Work\\Projects\\MusicalFace\\src\\Rishabh.jpg')\n",
    "imgFenris = cv2.cvtColor(imgFenris, cv2.COLOR_BGR2RGB)\n",
    "faceLoc = fr.face_locations(imgFenris)[0]\n",
    "encodeFenris = fr.face_encodings(imgFenris)[0]"
   ]
  },
  {
   "cell_type": "code",
   "execution_count": null,
   "metadata": {},
   "outputs": [],
   "source": [
    "imgKhushi = fr.load_image_file('D:\\Work\\Projects\\MusicalFace\\src\\Khushi.jpg')\n",
    "imgKhushi = cv2.cvtColor(imgKhushi, cv2.COLOR_BGR2RGB)\n",
    "faceLoc = fr.face_locations(imgKhushi)[0]\n",
    "encodeKnown.append(fr.face_encodings(imgKhushi)[0])"
   ]
  },
  {
   "cell_type": "code",
   "execution_count": null,
   "metadata": {},
   "outputs": [],
   "source": [
    "imgMaa = fr.load_image_file('D:\\Work\\Projects\\MusicalFace\\src\\Maa.jpg')\n",
    "imgMaa = cv2.cvtColor(imgMaa, cv2.COLOR_BGR2RGB)\n",
    "faceLoc = fr.face_locations(imgMaa)[0]\n",
    "encodeKnown.append(fr.face_encodings(imgMaa)[0])"
   ]
  },
  {
   "cell_type": "code",
   "execution_count": null,
   "metadata": {},
   "outputs": [],
   "source": [
    "imgPapa = fr.load_image_file('D:\\Work\\Projects\\MusicalFace\\src\\Papa.jpg')\n",
    "imgPapa = cv2.cvtColor(imgPapa, cv2.COLOR_BGR2RGB)\n",
    "faceLoc = fr.face_locations(imgPapa)[0]\n",
    "encodeKnown.append(fr.face_encodings(imgPapa)[0])"
   ]
  },
  {
   "cell_type": "code",
   "execution_count": null,
   "metadata": {},
   "outputs": [],
   "source": [
    "cap = cv2.VideoCapture(0,cv2.CAP_DSHOW)\n",
    "flag = True\n",
    "while(cap.isOpened()):\n",
    "    ret, img = cap.read()\n",
    "    imgS = cv2.resize(img, (0, 0), fx=0.25, fy=0.25)\n",
    "    imgS = np.flip(img, axis=1)\n",
    "    rgb_small_frame = imgS[:, :, ::-1]\n",
    "    \n",
    "    if flag == True :\n",
    "        faceLocLive = fr.face_locations(imgS)\n",
    "        encodeLive = fr.face_encodings(imgS, faceLocLive)\n",
    "    \n",
    "        for encodeFrame, faceFrame in zip(encodeLive, faceLocLive):\n",
    "            results = fr.compare_faces([encodeFenris], encodeFrame)\n",
    "            faceDis = fr.face_distance([encodeFenris], encodeFrame)\n",
    "        \n",
    "            index = np.argmin(faceDis)\n",
    "            \n",
    "    flag = not flag\n",
    "\n",
    "    for (x1, y1, x2, y2), name in zip(faceLocLive, names):\n",
    "        \n",
    "        x1 *= 4\n",
    "        y1 *= 4\n",
    "        x2 *= 4\n",
    "        y2 *= 4\n",
    "\n",
    "        # Draw a box around the face\n",
    "        cv2.rectangle(img, (y2, x1), (y1, x2), (0, 0, 255), 2)\n",
    "\n",
    "        # Draw a label with a name below the face\n",
    "        cv2.rectangle(img, (y2, x2 - 35), (y1, x2), (0, 0, 255), cv2.FILLED)\n",
    "        font = cv2.FONT_HERSHEY_DUPLEX\n",
    "\n",
    "        if results[index]:\n",
    "            name = names[index]\n",
    "            cv2.putText(cv2.UMat(img), f'{results[index]}, {name}', (-50,-50), cv2.FONT_HERSHEY_SCRIPT_COMPLEX ,1,(0,0,255),2)\n",
    "\n",
    "\n",
    "\n",
    "    cv2.imshow('Facial Rec', img)\n",
    "    k = cv2.waitKey(10)\n",
    "    if k == 27:\n",
    "        break\n",
    "        "
   ]
  },
  {
   "cell_type": "code",
   "execution_count": null,
   "metadata": {},
   "outputs": [],
   "source": [
    "cap.release()\n",
    "cv2.destroyAllWindows()"
   ]
  }
 ]
}